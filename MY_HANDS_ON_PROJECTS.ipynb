{
  "nbformat": 4,
  "nbformat_minor": 0,
  "metadata": {
    "colab": {
      "provenance": [],
      "collapsed_sections": [],
      "authorship_tag": "ABX9TyOVASHHa0eteNvLfkXBBmBO",
      "include_colab_link": true
    },
    "kernelspec": {
      "name": "python3",
      "display_name": "Python 3"
    },
    "language_info": {
      "name": "python"
    }
  },
  "cells": [
    {
      "cell_type": "markdown",
      "metadata": {
        "id": "view-in-github",
        "colab_type": "text"
      },
      "source": [
        "<a href=\"https://colab.research.google.com/github/ustab/THE-LIST-OF-MY-HANDS-ON-PROJECTS-/blob/main/MY_HANDS_ON_PROJECTS.ipynb\" target=\"_parent\"><img src=\"https://colab.research.google.com/assets/colab-badge.svg\" alt=\"Open In Colab\"/></a>"
      ]
    },
    {
      "cell_type": "markdown",
      "source": [],
      "metadata": {
        "id": "-LhHgo50WEJ6"
      }
    },
    {
      "cell_type": "markdown",
      "source": [
        "<h2>Hands on Projects</h2>"
      ],
      "metadata": {
        "id": "PPHDpVrQWFF7"
      }
    },
    {
      "cell_type": "code",
      "source": [
        "1-Using SQL String Functions to Clean Data"
      ],
      "metadata": {
        "id": "u17lAfSKV_a3"
      },
      "execution_count": null,
      "outputs": []
    },
    {
      "cell_type": "markdown",
      "source": [
        "https://coursera.org/verify/Z4E6M9HEFDYZ"
      ],
      "metadata": {
        "id": "F79m1C0QWup6"
      }
    },
    {
      "cell_type": "markdown",
      "source": [
        "2-Build a Business Architecture using AWS Organization"
      ],
      "metadata": {
        "id": "C99eITOFXFIf"
      }
    },
    {
      "cell_type": "markdown",
      "source": [
        "https://www.coursera.org/account/accomplishments/certificate/K8WPZ43V2ZFH"
      ],
      "metadata": {
        "id": "XOjxJxMcXBDJ"
      }
    },
    {
      "cell_type": "markdown",
      "source": [
        "3-AWS S3 Basics"
      ],
      "metadata": {
        "id": "Z7aEXhcyXBvf"
      }
    },
    {
      "cell_type": "markdown",
      "source": [
        "https://www.coursera.org/account/accomplishments/certificate/YT9HY6HHDZ9F"
      ],
      "metadata": {
        "id": "qL9uGBQ7XA7n"
      }
    },
    {
      "cell_type": "markdown",
      "source": [
        "4-Image Classification with Amazon Sagemaker"
      ],
      "metadata": {
        "id": "F-dHocuzWpsJ"
      }
    },
    {
      "cell_type": "markdown",
      "source": [
        "https://www.coursera.org/account/accomplishments/certificate/EQD5SM2HXGBK"
      ],
      "metadata": {
        "id": "TbEc3fzHXjyH"
      }
    },
    {
      "cell_type": "markdown",
      "source": [
        "5-Create Interactive Dashboards with Streamlit and Python"
      ],
      "metadata": {
        "id": "1WYBO4iLXjav"
      }
    },
    {
      "cell_type": "markdown",
      "source": [
        "https://www.coursera.org/account/accomplishments/certificate/DKFKD84XV6LF"
      ],
      "metadata": {
        "id": "rFKczR3XYCS2"
      }
    },
    {
      "cell_type": "markdown",
      "source": [
        "6-Python 101: Develop Your First Python Program"
      ],
      "metadata": {
        "id": "G-JcsMN1YIrv"
      }
    },
    {
      "cell_type": "markdown",
      "source": [
        "7-https://www.coursera.org/account/accomplishments/certificate/WTBM595SHAPQ"
      ],
      "metadata": {
        "id": "QiFmunKAYIR2"
      }
    },
    {
      "cell_type": "markdown",
      "source": [
        "8-Unsupervised Machine Learning for Customer Market Segmentation"
      ],
      "metadata": {
        "id": "gqJ3wXcmYa8e"
      }
    },
    {
      "cell_type": "markdown",
      "source": [
        "https://www.coursera.org/account/accomplishments/certificate/KJCJQ88C4NH2"
      ],
      "metadata": {
        "id": "lDeSjsiPYkau"
      }
    },
    {
      "cell_type": "markdown",
      "source": [
        "9-Multiple Linear Regression with scikit-learn"
      ],
      "metadata": {
        "id": "IW6HzzocYurE"
      }
    },
    {
      "cell_type": "markdown",
      "source": [
        "https://www.coursera.org/account/accomplishments/certificate/XUD6EVR8486L"
      ],
      "metadata": {
        "id": "BAaIcZQpYugl"
      }
    },
    {
      "cell_type": "markdown",
      "source": [
        "10-Linear Regression with NumPy and Python"
      ],
      "metadata": {
        "id": "_bHKLbSTYuST"
      }
    },
    {
      "cell_type": "markdown",
      "source": [
        "https://www.coursera.org/account/accomplishments/certificate/CXMABXZKS6ZB"
      ],
      "metadata": {
        "id": "QWUP_iBbZywT"
      }
    },
    {
      "cell_type": "markdown",
      "source": [
        "11-University Admission Prediction Using Multiple Linear Regression"
      ],
      "metadata": {
        "id": "hdZFyDQhZ4ja"
      }
    },
    {
      "cell_type": "markdown",
      "source": [
        "https://www.coursera.org/account/accomplishments/certificate/NY477J7STL8E"
      ],
      "metadata": {
        "id": "N-hOllg6aFZx"
      }
    },
    {
      "cell_type": "markdown",
      "source": [
        "12-Performing Data Aggregation using SQL Aggregate Functions"
      ],
      "metadata": {
        "id": "yplHEsxYaNsb"
      }
    },
    {
      "cell_type": "markdown",
      "source": [
        "https://www.coursera.org/account/accomplishments/certificate/F7YXW598GA5B"
      ],
      "metadata": {
        "id": "erqNbPEiaM_s"
      }
    },
    {
      "cell_type": "markdown",
      "source": [
        "13-Querying Databases Using SQL SELECT statement"
      ],
      "metadata": {
        "id": "dFvnyIQ3ahmi"
      }
    },
    {
      "cell_type": "markdown",
      "source": [
        "https://www.coursera.org/account/accomplishments/certificate/C3GMSRYGSQMQ"
      ],
      "metadata": {
        "id": "YToTxWDBZ4FT"
      }
    },
    {
      "cell_type": "markdown",
      "source": [
        "14-Logistic Regression with NumPy and Python"
      ],
      "metadata": {
        "id": "SgKDWevhYt5z"
      }
    },
    {
      "cell_type": "markdown",
      "source": [
        "https://www.coursera.org/account/accomplishments/certificate/QMMEVHKVXEQH"
      ],
      "metadata": {
        "id": "v4eqeFcTa50C"
      }
    },
    {
      "cell_type": "markdown",
      "source": [
        "15-Machine Learning for Kyphosis Disease Classification"
      ],
      "metadata": {
        "id": "6IEsgd8MbF4q"
      }
    },
    {
      "cell_type": "markdown",
      "source": [
        "https://www.coursera.org/account/accomplishments/certificate/CQKBTHQDTVGR"
      ],
      "metadata": {
        "id": "KPa61E__bIn5"
      }
    },
    {
      "cell_type": "markdown",
      "source": [
        "16-Get Familiar with ML basics in a Kaggle Competition"
      ],
      "metadata": {
        "id": "EpR5l6rfbMqr"
      }
    },
    {
      "cell_type": "markdown",
      "source": [
        "https://www.coursera.org/account/accomplishments/certificate/DBG929PKPB48"
      ],
      "metadata": {
        "id": "Kmrkujd-bT74"
      }
    },
    {
      "cell_type": "markdown",
      "source": [
        "17-XG-Boost 101: Used Cars Price Prediction"
      ],
      "metadata": {
        "id": "qyTYa4_3bbKn"
      }
    },
    {
      "cell_type": "markdown",
      "source": [
        "https://www.coursera.org/account/accomplishments/certificate/HWGCGMQG8X8X"
      ],
      "metadata": {
        "id": "pkJxSMdbbavA"
      }
    },
    {
      "cell_type": "markdown",
      "source": [
        "18-Titanic Survival Prediction Using Machine Learning"
      ],
      "metadata": {
        "id": "0iUT2hWGbvSB"
      }
    },
    {
      "cell_type": "markdown",
      "source": [
        "https://www.coursera.org/account/accomplishments/certificate/57DF4K7WNJTB"
      ],
      "metadata": {
        "id": "lKvLVkRsbxXX"
      }
    },
    {
      "cell_type": "markdown",
      "source": [
        "19-Exploratory Data Analysis with Seaborn"
      ],
      "metadata": {
        "id": "e0WrzSBob4v_"
      }
    },
    {
      "cell_type": "markdown",
      "source": [
        "https://www.coursera.org/account/accomplishments/certificate/2PE6TEHWGU8L"
      ],
      "metadata": {
        "id": "FjnzdGxRcDw4"
      }
    },
    {
      "cell_type": "markdown",
      "source": [
        "20-Hospital management database using SQL server"
      ],
      "metadata": {
        "id": "HODwRWMUcFBc"
      }
    },
    {
      "cell_type": "markdown",
      "source": [
        "https://www.coursera.org/account/accomplishments/certificate/VGMZARFW5G93"
      ],
      "metadata": {
        "id": "JjKX78B_cQGH"
      }
    },
    {
      "cell_type": "markdown",
      "source": [
        "21-Intermediate Relational Database and SQL"
      ],
      "metadata": {
        "id": "3Sf1nsP3cTLA"
      }
    },
    {
      "cell_type": "markdown",
      "source": [
        "https://www.coursera.org/account/accomplishments/certificate/75WDLQADPKDL"
      ],
      "metadata": {
        "id": "TGUjvoqwcay-"
      }
    },
    {
      "cell_type": "markdown",
      "source": [
        "22-Creating an Interactive KPI Management Dashboard in Tableau"
      ],
      "metadata": {
        "id": "R8-CPwiVcb-1"
      }
    },
    {
      "cell_type": "markdown",
      "source": [
        "https://www.coursera.org/account/accomplishments/certificate/VC4K5DZPDXB2"
      ],
      "metadata": {
        "id": "QdfglVGlccxk"
      }
    },
    {
      "cell_type": "markdown",
      "source": [
        "23-Create a Story in Tableau Public"
      ],
      "metadata": {
        "id": "hqzDcMaDcsdc"
      }
    },
    {
      "cell_type": "markdown",
      "source": [
        "https://www.coursera.org/account/accomplishments/certificate/HVNCVP8N75V6"
      ],
      "metadata": {
        "id": "oR4frMgfc5kl"
      }
    },
    {
      "cell_type": "markdown",
      "source": [
        "24-Extract Text Data with Python and Regex"
      ],
      "metadata": {
        "id": "Wldc0U6Cc6p0"
      }
    },
    {
      "cell_type": "markdown",
      "source": [
        "https://www.coursera.org/account/accomplishments/certificate/T34FYBZ36RBP"
      ],
      "metadata": {
        "id": "eJ9Ff_imdFlU"
      }
    },
    {
      "cell_type": "markdown",
      "source": [
        "25-Exploratory Data Analysis"
      ],
      "metadata": {
        "id": "425C6oeidHSx"
      }
    },
    {
      "cell_type": "markdown",
      "source": [
        "https://www.coursera.org/account/accomplishments/certificate/E253KU4BVRCU"
      ],
      "metadata": {
        "id": "0Ue8DohhdQcE"
      }
    },
    {
      "cell_type": "markdown",
      "source": [
        "26-Basic Statistics in Python (Correlations and T-tests)"
      ],
      "metadata": {
        "id": "Px0zJYMpdSWT"
      }
    },
    {
      "cell_type": "markdown",
      "source": [
        "https://www.coursera.org/account/accomplishments/certificate/XCESQFNF7VAZ"
      ],
      "metadata": {
        "id": "l9igrGmedg9r"
      }
    },
    {
      "cell_type": "markdown",
      "source": [
        "27-Interactive Statistical Data Visualization 101"
      ],
      "metadata": {
        "id": "2FO7MumqdiYW"
      }
    },
    {
      "cell_type": "markdown",
      "source": [
        "https://www.coursera.org/account/accomplishments/certificate/FNETMVETCFAE"
      ],
      "metadata": {
        "id": "gZ14LqxPdvcj"
      }
    },
    {
      "cell_type": "markdown",
      "source": [
        "28-Python for Data Visualization:Matplotlib & Seaborn(Enhanced)"
      ],
      "metadata": {
        "id": "hkkfS3lUdwp9"
      }
    },
    {
      "cell_type": "markdown",
      "source": [
        "https://www.coursera.org/account/accomplishments/certificate/2AQEEF2M5RH7"
      ],
      "metadata": {
        "id": "PyROig9jd5ab"
      }
    }
  ]
}